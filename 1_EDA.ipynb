{
  "cells": [
    {
      "cell_type": "markdown",
      "metadata": {
        "id": "view-in-github",
        "colab_type": "text"
      },
      "source": [
        "<a href=\"https://colab.research.google.com/github/liuying1201/Credit-Risk-Prediction-German-Bank/blob/main/1_EDA.ipynb\" target=\"_parent\"><img src=\"https://colab.research.google.com/assets/colab-badge.svg\" alt=\"Open In Colab\"/></a>"
      ]
    },
    {
      "cell_type": "markdown",
      "metadata": {
        "id": "5XfwJAmvMMRp"
      },
      "source": [
        "# Machine learning german bank credit risk prediction\n",
        "In this project, I will build a <b>machine learning model to predict credit risk of German Bank's customers</b>. It involves <b>supervised learning (using a labeled training set) for classification</b>, where the <b>target</b> is <b>1</b> if the <b>customer</b> represents a <b>bad risk</b>, and <b>0</b> if he represent a <b>good risk</b>.\n",
        "\n",
        "I will use the following <b>pipeline:</b>\n",
        "\n",
        "<b>1. Define the business problem.</b><br>\n",
        "<b>2. Collect the data and get a general overview of it.</b><br>\n",
        "<b>3. Split the data into train and test sets.</b><br>\n",
        "<b>4. Explore the data (exploratory data analysis)</b><br>\n",
        "<b>5. Data cleaning and preprocessing.</b><br>\n",
        "<b>6. Model training, comparison, selection and tuning.</b><br>\n",
        "<b>7. Final production model testing and evaluation.</b><br>\n",
        "<b>8. Conclude and interpret the model results.</b><br>\n",
        "<b>9. Deploy.</b><br>\n",
        "\n",
        "\n",
        "In <b>this notebook</b>, I will perform <b>exploratory data analysis (EDA), covering steps 1 to 4 of the machine learning project pipeline above.</b> The main <b>objective</b> here is to <b>uncover patterns and insights</b> that will give us <b>valuable information about credit risk</b> within the available features. Thus, even before building a model, it will be possible to help the bank with some customer profiles, characteristics of clients and credit services that present higher levels of risk, etc. Furthermore, I will approach these steps in more detail below, with an overview of them and the explanation of why I am making each decision."
      ]
    },
    {
      "cell_type": "markdown",
      "metadata": {
        "id": "GIbNOb1vMMRr"
      },
      "source": [
        "# 1. Business problem\n",
        "\n",
        "<b>Predict credit risk of German Bank's customers.</b><br>\n",
        "\n",
        "<b>Credit risk</b> refers to the potential financial loss that a lender, such as a bank, might incur if a borrower fails to repay a loan or credit obligation. It's the uncertainty about whether borrowers will honor their financial commitments.\n",
        "\n",
        "<b>The German Bank aims to predict their customers' credit risk for several reasons:</b><br>\n",
        "\n",
        "<b>1. Risk Assessment:</b> By predicting whether a customer is a good or bad risk, banks can assess the likelihood of loan defaults or late payments, helping them make informed lending decisions.<br>\n",
        "<b>2. Profitability:</b> Accurate credit risk prediction allows banks to offer appropriate interest rates based on a customer's risk profile, ensuring fair compensation for the level of risk involved.<br>\n",
        "<b>3. Minimize Losses:</b> Identifying high-risk customers helps banks allocate resources effectively, focusing more attention on potential problem cases and minimizing potential financial losses.<br>\n",
        "<b>4. Compliance:</b> Regulatory requirements often mandate that banks maintain certain levels of capital reserves to cover potential credit losses. Accurate risk prediction aids in regulatory compliance.<br>\n",
        "<b>5. Customer Segmentation:</b> Predicting credit risk allows banks to segment customers based on risk profiles, tailoring financial products and services to individual needs and risk tolerance.<br>\n",
        "<b>6. Strengthen Trust:</b> Sound risk assessment builds trust with customers, as banks can demonstrate responsible lending practices and transparency.<br>\n",
        "\n",
        "By employing <b>predictive models</b>, <b>the German Bank</b> can make <b>informed decisions</b> that <b>balance profit generation with prudent risk management</b>, ultimately benefiting both the institution and its customers. Thus, the project objective is to build a model that is able to identify as many as possible bad risk customers and provide valuable insights about credit risk within the available features. By doing this, the business problem will be solved."
      ]
    },
    {
      "cell_type": "markdown",
      "metadata": {
        "id": "WQVsKqgoMMRs"
      },
      "source": [
        "### Importing the libraries"
      ]
    },
    {
      "cell_type": "code",
      "execution_count": 1,
      "metadata": {
        "colab": {
          "base_uri": "https://localhost:8080/",
          "height": 395
        },
        "id": "qlhi2juHMMRs",
        "outputId": "7dad7cc3-2ef8-4b36-bf0d-708f9d5f016e"
      },
      "outputs": [
        {
          "output_type": "error",
          "ename": "ModuleNotFoundError",
          "evalue": "No module named 'notebooks'",
          "traceback": [
            "\u001b[0;31m---------------------------------------------------------------------------\u001b[0m",
            "\u001b[0;31mModuleNotFoundError\u001b[0m                       Traceback (most recent call last)",
            "\u001b[0;32m<ipython-input-1-551e85a1dfa4>\u001b[0m in \u001b[0;36m<cell line: 12>\u001b[0;34m()\u001b[0m\n\u001b[1;32m     10\u001b[0m \u001b[0;34m\u001b[0m\u001b[0m\n\u001b[1;32m     11\u001b[0m \u001b[0;31m# Utils\u001b[0m\u001b[0;34m\u001b[0m\u001b[0;34m\u001b[0m\u001b[0m\n\u001b[0;32m---> 12\u001b[0;31m \u001b[0;32mfrom\u001b[0m \u001b[0mnotebooks\u001b[0m\u001b[0;34m.\u001b[0m\u001b[0meda_utils\u001b[0m \u001b[0;32mimport\u001b[0m \u001b[0;34m*\u001b[0m\u001b[0;34m\u001b[0m\u001b[0;34m\u001b[0m\u001b[0m\n\u001b[0m\u001b[1;32m     13\u001b[0m \u001b[0;34m\u001b[0m\u001b[0m\n\u001b[1;32m     14\u001b[0m \u001b[0;31m# Filter warnings.\u001b[0m\u001b[0;34m\u001b[0m\u001b[0;34m\u001b[0m\u001b[0m\n",
            "\u001b[0;31mModuleNotFoundError\u001b[0m: No module named 'notebooks'",
            "",
            "\u001b[0;31m---------------------------------------------------------------------------\u001b[0;32m\nNOTE: If your import is failing due to a missing package, you can\nmanually install dependencies using either !pip or !apt.\n\nTo view examples of installing some common dependencies, click the\n\"Open Examples\" button below.\n\u001b[0;31m---------------------------------------------------------------------------\u001b[0m\n"
          ],
          "errorDetails": {
            "actions": [
              {
                "action": "open_url",
                "actionText": "Open Examples",
                "url": "/notebooks/snippets/importing_libraries.ipynb"
              }
            ]
          }
        }
      ],
      "source": [
        "# Data manipulation and visualization.\n",
        "import pandas as pd\n",
        "import numpy as np\n",
        "import matplotlib.pyplot as plt\n",
        "import seaborn as sns\n",
        "\n",
        "# Split the data and clustering.\n",
        "from sklearn.model_selection import train_test_split\n",
        "from sklearn.cluster import KMeans\n",
        "\n",
        "# Utils\n",
        "from notebooks.eda_utils import *\n",
        "\n",
        "# Filter warnings.\n",
        "import warnings\n",
        "warnings.filterwarnings('ignore')\n",
        "\n",
        "# Seaborn grid style.\n",
        "sns.set_theme(style='whitegrid')"
      ]
    },
    {
      "cell_type": "markdown",
      "metadata": {
        "id": "Nuyl417jMMRt"
      },
      "source": [
        "# 2. Understanding the data\n",
        "- The dataset was collected from kaggle: https://www.kaggle.com/datasets/kabure/german-credit-data-with-risk\n",
        "- The dataset makes part of the UCI Machine Learning repository."
      ]
    },
    {
      "cell_type": "code",
      "execution_count": null,
      "metadata": {
        "id": "cUyZEM-DMMRt"
      },
      "outputs": [],
      "source": [
        "df = pd.read_csv('data/german_credit_data.csv')\n",
        "# Dropping useless column.\n",
        "df.drop(columns=['Unnamed: 0'], inplace=True)"
      ]
    },
    {
      "cell_type": "code",
      "execution_count": null,
      "metadata": {
        "id": "btyZx-94MMRt"
      },
      "outputs": [],
      "source": [
        "df.head()"
      ]
    },
    {
      "cell_type": "markdown",
      "metadata": {
        "id": "mUKel3phMMRu"
      },
      "source": [
        "### Data dictionary\n",
        "<b>1. Age</b> (numeric)<br>\n",
        "<b>2. Sex</b> (text: male, female)<br>\n",
        "<b>3. Job</b> (numeric: 0 - unskilled and non-resident, 1 - unskilled and resident, 2 - skilled, 3 - highly skilled)<br>\n",
        "<b>4. Housing</b> (text: own, rent, or free)<br>\n",
        "<b>5. Saving accounts</b> (text - little, moderate, quite rich, rich)<br>\n",
        "<b>6. Checking account</b> (numeric, in DM - Deutsch Mark)<br>\n",
        "<b>7. Credit amount</b> (numeric, in DM)<br>\n",
        "<b>8. Duration</b> (numeric, in month)<br>\n",
        "<b>9. Purpose</b> (text: car, furniture/equipment, radio/TV, domestic appliances, repairs, education, business, vacation/others)<br>\n",
        "<b>10. Risk</b> (text: target, good risk and bad risk)<br>"
      ]
    },
    {
      "cell_type": "markdown",
      "metadata": {
        "id": "vvlxuunOMMRu"
      },
      "source": [
        "Looking at dataset general information."
      ]
    },
    {
      "cell_type": "code",
      "execution_count": null,
      "metadata": {
        "id": "6XTYdhN4MMRu"
      },
      "outputs": [],
      "source": [
        "df.info()"
      ]
    },
    {
      "cell_type": "code",
      "execution_count": null,
      "metadata": {
        "id": "s3LxURQTMMRu"
      },
      "outputs": [],
      "source": [
        "print(f'The dataset has {df.shape[0]} rows and {df.shape[1]} columns.')"
      ]
    },
    {
      "cell_type": "markdown",
      "metadata": {
        "id": "9BqlAV5uMMRv"
      },
      "source": [
        "There are some missing values in Checking account and Saving accounts. Furthermore, the features seem to be in the correct data types."
      ]
    },
    {
      "cell_type": "markdown",
      "metadata": {
        "id": "Ti3P861uMMRv"
      },
      "source": [
        "Looking at some descriptive statistics."
      ]
    },
    {
      "cell_type": "code",
      "execution_count": null,
      "metadata": {
        "id": "7x4p_YHaMMRv"
      },
      "outputs": [],
      "source": [
        "df.describe().T"
      ]
    },
    {
      "cell_type": "markdown",
      "metadata": {
        "id": "6MUvMpV1MMRv"
      },
      "source": [
        "Some interesting points:\n",
        "1. The average age is approximately 36 years.\n",
        "2. The average credit amount is approximately 3271.\n",
        "3. The average credit service duration is 21 months.\n",
        "4. Looks like there are some outliers."
      ]
    },
    {
      "cell_type": "markdown",
      "metadata": {
        "id": "vosgDlHoMMRv"
      },
      "source": [
        "Looking at missing and duplicated values."
      ]
    },
    {
      "cell_type": "code",
      "execution_count": null,
      "metadata": {
        "id": "MkbR3BbHMMRv"
      },
      "outputs": [],
      "source": [
        "df.isna().sum()"
      ]
    },
    {
      "cell_type": "code",
      "execution_count": null,
      "metadata": {
        "id": "aZ0dy1HtMMRv"
      },
      "outputs": [],
      "source": [
        "df.duplicated().sum()"
      ]
    },
    {
      "cell_type": "markdown",
      "metadata": {
        "id": "YRkTD3LrMMRv"
      },
      "source": [
        "There are some missing values in Checking account and Saving accounts. Moreover, there are not duplicated values."
      ]
    },
    {
      "cell_type": "markdown",
      "metadata": {
        "id": "GJD2bKsVMMRw"
      },
      "source": [
        "Target (Risk) and Sex can be expressed as binary features. I will label bad risk as 1 and good risk as 0, because the idea is to accurately predict bad risk customers in order to avoid defaults and so on. Moreover, I will label male as 1 and female as 0."
      ]
    },
    {
      "cell_type": "code",
      "execution_count": null,
      "metadata": {
        "id": "5S4NXs1MMMRw"
      },
      "outputs": [],
      "source": [
        "df['Risk'] = df['Risk'].map({'bad': 1, 'good': 0})\n",
        "df['Sex'] = df['Sex'].map({'male': 1, 'female': 0})"
      ]
    },
    {
      "cell_type": "markdown",
      "metadata": {
        "id": "vt02Qa4mMMRw"
      },
      "source": [
        "# 3. Split the data into train and test sets\n",
        "- First of all, I will split the data into train and test sets.\n",
        "- Test set is supposed to be data the model has never seen before.\n",
        "- I will perform EDA focusing on the training set in order to avoid data leakage, get a realistic representation and evaluate the model correctly with new unseen data.\n",
        "- I will specify stratify=y so that the train_test_split function ensures that the splitting process maintains the same percentage of each target class in both the training and testing sets. This is particularly useful when dealing with imbalanced datasets, which is the case, as there are more good risk customers than bad risk ones."
      ]
    },
    {
      "cell_type": "code",
      "execution_count": null,
      "metadata": {
        "id": "_T-fR-N4MMRw"
      },
      "outputs": [],
      "source": [
        "X = df.drop(columns=['Risk'])\n",
        "y = df['Risk'].copy()\n",
        "\n",
        "X_train, X_test, y_train, y_test = train_test_split(X, y, test_size=0.2, stratify=y, random_state=42)"
      ]
    },
    {
      "cell_type": "code",
      "execution_count": null,
      "metadata": {
        "id": "NcOhFeN5MMRw"
      },
      "outputs": [],
      "source": [
        "print(f'Train predictor dataset shape: {X_train.shape}.')\n",
        "print(f'Train target dataset shape: {y_train.shape}.')\n",
        "print(f'Test predictor dataset shape: {X_test.shape}.')\n",
        "print(f'Test target dataset shape: {y_test.shape}.')"
      ]
    },
    {
      "cell_type": "code",
      "execution_count": null,
      "metadata": {
        "id": "jJ0OP4GzMMRw"
      },
      "outputs": [],
      "source": [
        "print(f'Train target proportion: ')\n",
        "print(f'{y_train.value_counts(normalize=True)}')\n",
        "print(f'\\nTest target proportion: ')\n",
        "print(f'{y_test.value_counts(normalize=True)}')"
      ]
    },
    {
      "cell_type": "markdown",
      "metadata": {
        "id": "jePeDrLNMMRx"
      },
      "source": [
        "The target proportion of each class is preserved."
      ]
    },
    {
      "cell_type": "markdown",
      "metadata": {
        "id": "6UBEljOWMMRx"
      },
      "source": [
        "# 4. Exploratory data analysis\n",
        "I will explore the training set in order to get a better undestanding of how the features are individually distributed, the relashionships between them, correlations, trends and possible insights from the data, especially regard to the target variable (Risk). Thus, I will do univariate, bivariate and multivariate analysis of the data."
      ]
    },
    {
      "cell_type": "markdown",
      "metadata": {
        "id": "ZeB8mFmGMMRx"
      },
      "source": [
        "I will get an entire train set (with predictor and target features) in order to use seaborn 'hue' parameter for visualizations and look at the correlation matrix."
      ]
    },
    {
      "cell_type": "code",
      "execution_count": null,
      "metadata": {
        "id": "47kzHw2GMMRx"
      },
      "outputs": [],
      "source": [
        "train = pd.concat([X_train, y_train], axis=1)\n",
        "train.head()"
      ]
    },
    {
      "cell_type": "markdown",
      "metadata": {
        "id": "MTF_pnP6MMRx"
      },
      "source": [
        "I will get categorical features, numerical features and target feature separate lists in order to turn data visualization and exploration easier."
      ]
    },
    {
      "cell_type": "code",
      "execution_count": null,
      "metadata": {
        "id": "XYdpTS3sMMRx"
      },
      "outputs": [],
      "source": [
        "numerical_features = X_train.select_dtypes('number').columns.tolist()\n",
        "categorical_features = X_train.select_dtypes('object').columns.tolist()\n",
        "target = 'Risk'\n",
        "\n",
        "print(f'There are {len(numerical_features)} numerical features. They are: ')\n",
        "print(numerical_features)\n",
        "print(f'\\nThere are {len(categorical_features)} categorical features. They are: ')\n",
        "print(categorical_features)\n",
        "print(f'\\nThe target feature is: {target}.')"
      ]
    },
    {
      "cell_type": "markdown",
      "metadata": {
        "id": "F9qiHBzdMMRy"
      },
      "source": [
        "I will look at categorical features unique values. Cardinality is an important factor when choosing an encoding technique for them."
      ]
    },
    {
      "cell_type": "code",
      "execution_count": null,
      "metadata": {
        "id": "ve-C7IgRMMRy"
      },
      "outputs": [],
      "source": [
        "for feature in categorical_features:\n",
        "    print(feature)\n",
        "    print('-'*40)\n",
        "    print(f'There are {train[feature].nunique()} unique values. They are: ')\n",
        "    print(train[feature].value_counts(normalize=True))\n",
        "    print()"
      ]
    },
    {
      "cell_type": "markdown",
      "metadata": {
        "id": "9ufIKrqwMMRy"
      },
      "source": [
        "Insights:\n",
        "1. Saving accounts and Checking accounts present an ordinal relationship. Ordinal encoder might be a good choice for encoding them.\n",
        "2. Purpose has a higher cardinality comparing to the other categorical features. As I have a little amount of data, target encoder might be a good choice for encoding it. Applying one hot encoder would increase dimensionality, favoring overfitting.\n",
        "3. Housing doesn't have an ordinal relationship. Thus, target encoder would also be good for encoding it.\n",
        "\n",
        "Moreover, I will do univariate, bivariate and multivariate analysis of these features below in order to uncover patterns and insights."
      ]
    },
    {
      "cell_type": "markdown",
      "metadata": {
        "id": "EGwIZL23MMRy"
      },
      "source": [
        "### Univariate analysis\n",
        "I will do univariate analysis below in order to see which are the typical values of each feature for the bank's customers."
      ]
    },
    {
      "cell_type": "markdown",
      "metadata": {
        "id": "HX9m7ChUMMRy"
      },
      "source": [
        "### Target distribution"
      ]
    },
    {
      "cell_type": "code",
      "execution_count": null,
      "metadata": {
        "id": "bGHlsTrYMMRy"
      },
      "outputs": [],
      "source": [
        "plt.figure(figsize=(9, 5))\n",
        "ax = sns.countplot(data=train, x='Risk')\n",
        "\n",
        "total = len(train)\n",
        "counts = [count.get_height() for count in ax.patches]\n",
        "percentages = [(count / total) * 100 for count in counts]\n",
        "\n",
        "for count, percentage in zip(ax.patches, percentages):\n",
        "    x = count.get_x() + count.get_width() / 2\n",
        "    y = count.get_height()\n",
        "    ax.annotate(f'{percentage:.1f}%', (x, y), ha='center', va='bottom')\n",
        "plt.show()"
      ]
    },
    {
      "cell_type": "markdown",
      "metadata": {
        "id": "CH0ja_RzMMRz"
      },
      "source": [
        "The target is slightly imbalanced. 30% of the customers are bad risk. Thus, I will adopt some strategies in order to deal with this, because I only have 1000 rows of data. They are:\n",
        "1. Stratified hold-out and k-fold cross validation in order to maintain the target proportion on test and validation sets, even for hyperparameter tuning.\n",
        "2. Define different class weights for majority and minority class instances. The idea is to define higher weights to minority class, such that the model will be penalized when mistakenly classifying a bad risk customer. These weights are defined on the model specific hyperparameter for it.\n",
        "3. Take a look at precision vs recall trade-off if necessary. The objective is to predict as many as possible bad risk customers, so a high recall must be the priority."
      ]
    },
    {
      "cell_type": "markdown",
      "metadata": {
        "id": "8lphk2AdMMRz"
      },
      "source": [
        "### Numerical features distributions\n",
        "I will look at numerical features distributions below in order to see if there are skewed distributions and which are the most common values for the bank's customers numeric attributes."
      ]
    },
    {
      "cell_type": "code",
      "execution_count": null,
      "metadata": {
        "id": "Z_rhZkJmMMRz"
      },
      "outputs": [],
      "source": [
        "histplot_boxplot_features = ['Age', 'Credit amount', 'Duration']\n",
        "\n",
        "sns_plots(data=train, features=histplot_boxplot_features, histplot=True, kde=True)"
      ]
    },
    {
      "cell_type": "markdown",
      "metadata": {
        "id": "P8IhUBVhMMRz"
      },
      "source": [
        "Insights:\n",
        "1. Most of the customers are between 20 and 40 years old.\n",
        "2. As expected, the distribution of credit amounts is skewed to the right. Most customers have low credit amounts, while there are some outliers with very high credit balances.\n",
        "3. A significant portion of the customers stay for either 12 or 24 months while using the bank's credit service."
      ]
    },
    {
      "cell_type": "markdown",
      "metadata": {
        "id": "Dxv2fAnwMMRz"
      },
      "source": [
        "### Outliers\n",
        "I will look at outliers in the data in order to see if they represent inconsistent information like measurement errors. Once I do this, I will decide if I will treat them or not. Moreover, I will plot boxplots below for visualization purposes."
      ]
    },
    {
      "cell_type": "code",
      "execution_count": null,
      "metadata": {
        "id": "KEVCv6lIMMR0"
      },
      "outputs": [],
      "source": [
        "outlier_indexes, outlier_counts, total_outliers = check_outliers(data=train, features=histplot_boxplot_features)"
      ]
    },
    {
      "cell_type": "code",
      "execution_count": null,
      "metadata": {
        "id": "iEP8WVyYMMR0"
      },
      "outputs": [],
      "source": [
        "sns_plots(data=train, features=histplot_boxplot_features, outliers=True)"
      ]
    },
    {
      "cell_type": "markdown",
      "metadata": {
        "id": "K5hAkELmMMR0"
      },
      "source": [
        "I will not drop any outlier because I have a little amount of data (just 1000 rows). Anyway, the outliers don't represent inconsistent information. Naturally, some customers will have a higher credit amount, be older and stay more time consuming the bank credit service."
      ]
    },
    {
      "cell_type": "markdown",
      "metadata": {
        "id": "PN0nBx_oMMR0"
      },
      "source": [
        "### Categorical features distributions\n",
        "I will look at categorical features countplots below in order to see which are the most common characteristics of the bank's customers. Moreover, I will include Sex and Job in these plots because Sex is binary and Job has just a few values, which are more easy to visualize in a countplot."
      ]
    },
    {
      "cell_type": "code",
      "execution_count": null,
      "metadata": {
        "id": "9XhrhjB9MMR0"
      },
      "outputs": [],
      "source": [
        "countplot_barplot_features = ['Sex', 'Job', 'Housing', 'Saving accounts', 'Checking account']\n",
        "\n",
        "sns_plots(data=train, features=countplot_barplot_features, countplot=True)"
      ]
    },
    {
      "cell_type": "code",
      "execution_count": null,
      "metadata": {
        "id": "4nQ8fL_6MMR0"
      },
      "outputs": [],
      "source": [
        "# Plotting purpose separately.\n",
        "plt.figure(figsize=(15, 5))\n",
        "ax = sns.countplot(data=train, x='Purpose')\n",
        "plt.show()"
      ]
    },
    {
      "cell_type": "markdown",
      "metadata": {
        "id": "rbUDyz9tMMR0"
      },
      "source": [
        "Insights:\n",
        "1. There are more than twice as many male customers as female ones.\n",
        "2. Most of the customers jobs are skilled.\n",
        "3. Most of the customers have their own house.\n",
        "4. Most of the customers have little saving accounts.\n",
        "5. Most of the customers have little or moderate checking account.\n",
        "6. Most of the customers took out credit with the bank for car, radio/tv and furniture/equipment purposes.\n"
      ]
    },
    {
      "cell_type": "markdown",
      "metadata": {
        "id": "vx1b8gXDMMR0"
      },
      "source": [
        "### Bivariate and multivariate analysis\n",
        "I will do bivariate and multivariate analysis below in order to see how the features are related to each other, particularly with the target variable (Risk)."
      ]
    },
    {
      "cell_type": "markdown",
      "metadata": {
        "id": "2gYI_W-PMMR1"
      },
      "source": [
        "### Correlation matrix\n",
        "I will examine the correlation matrix in order to identify any linear relationships between the features in the data, particularly with the target variable, and assess the strength and direction of these relationships."
      ]
    },
    {
      "cell_type": "code",
      "execution_count": null,
      "metadata": {
        "id": "IbxigO5NMMR1"
      },
      "outputs": [],
      "source": [
        "corr_matrix = train.corr(numeric_only=True)"
      ]
    },
    {
      "cell_type": "code",
      "execution_count": null,
      "metadata": {
        "id": "AbfuClA0MMR1"
      },
      "outputs": [],
      "source": [
        "corr_matrix['Risk'].sort_values(ascending=False)"
      ]
    },
    {
      "cell_type": "code",
      "execution_count": null,
      "metadata": {
        "id": "fYQnswmLMMR1"
      },
      "outputs": [],
      "source": [
        "sns.heatmap(corr_matrix, vmin=-1, vmax=1, annot=True)\n",
        "plt.show()"
      ]
    },
    {
      "cell_type": "markdown",
      "metadata": {
        "id": "o53JxrkGMMR1"
      },
      "source": [
        "Insights:\n",
        "1. Credit amount and Duration are weakly positively correlated with the target. It makes sense because higher credit amounts tend to be associated with longer credit service durations, thus indicating a higher level of risk, while lower credit amounts tend to be associated with shorter credit service durations, presenting a lower level of risk.\n",
        "2. Duration and credit amount are strongly positively correlated. Thus, when the duration of a credit service (such as a loan) is longer, the associated credit amount is generally higher, and when the duration is shorter, the associated credit amount tends to be lower. It makes total sense, higher loan amounts demand more time for being paid while lower loan amounts demand less time for being paid, for example.\n",
        "3. Credit amount and Job are moderately positively correlated. Thus, customers with more skilled jobs tend to have higher credit amounts and customers with less skilled jobs tend to have lower credit amounts."
      ]
    },
    {
      "cell_type": "markdown",
      "metadata": {
        "id": "8TcLCCneMMR1"
      },
      "source": [
        "I will look at seaborn pairplot below to illustrate the insights above."
      ]
    },
    {
      "cell_type": "markdown",
      "metadata": {
        "id": "Bt4CsPhFMMR1"
      },
      "source": [
        "### Pairplot"
      ]
    },
    {
      "cell_type": "code",
      "execution_count": null,
      "metadata": {
        "id": "vWf-uMovMMR1"
      },
      "outputs": [],
      "source": [
        "sns.pairplot(data=train, hue='Risk', vars=histplot_boxplot_features)\n",
        "plt.show()"
      ]
    },
    {
      "cell_type": "markdown",
      "metadata": {
        "id": "VdRsiankMMR2"
      },
      "source": [
        "### Numerical features vs Risk\n",
        "I will look at bad risk and good risk customers numerical distributions below in order to see if there is any significant difference between them."
      ]
    },
    {
      "cell_type": "code",
      "execution_count": null,
      "metadata": {
        "id": "8M4PeqJRMMR2"
      },
      "outputs": [],
      "source": [
        "sns_plots(data=train, features=histplot_boxplot_features, histplot=True, kde=True, hue=target)"
      ]
    },
    {
      "cell_type": "code",
      "execution_count": null,
      "metadata": {
        "id": "rNn5dvqBMMR2"
      },
      "outputs": [],
      "source": [
        "sns_plots(data=train, features=histplot_boxplot_features, boxplot=True, boxplot_x=target)"
      ]
    },
    {
      "cell_type": "markdown",
      "metadata": {
        "id": "xI_xzgqkMMR2"
      },
      "source": [
        "Insights:\n",
        "1. Bad risk customers are slightly younger compared to good risk ones. This makes total sense because young people generally don't have financial stability.\n",
        "2. Bad risk customers tend to borrow higher credit amounts compared to good risk ones. This was expected since higher credit amounts present higher levels of risk as they're harder to pay.\n",
        "3. Bad risk customers tend to use credit services for longer durations compared to good risk ones. This was expected because, as I saw above, when the duration of a credit service (such as a loan) is longer, the associated credit amount is generally higher and thus the levels of risk are so. Furthermore, the more time a client spends not paying the credit service he is using, the higher the risk of default."
      ]
    },
    {
      "cell_type": "markdown",
      "metadata": {
        "id": "46FOKRoKMMR2"
      },
      "source": [
        "### Categorical features vs Risk\n",
        "I will look at how bad risk and good risk customers are distributed over different categorical features categories in order to see which are the categories with higher proportions of bad risk customers."
      ]
    },
    {
      "cell_type": "code",
      "execution_count": null,
      "metadata": {
        "id": "ZeaNqFNgMMR2"
      },
      "outputs": [],
      "source": [
        "sns_plots(data=train, features=countplot_barplot_features, countplot=True, hue=target)"
      ]
    },
    {
      "cell_type": "code",
      "execution_count": null,
      "metadata": {
        "id": "OChw2QSGMMR2"
      },
      "outputs": [],
      "source": [
        "# Plotting Purpose separately.\n",
        "plt.figure(figsize=(15, 5))\n",
        "sns.countplot(data=train, x='Purpose', hue='Risk')\n",
        "plt.show()"
      ]
    },
    {
      "cell_type": "markdown",
      "metadata": {
        "id": "tgK8T7C7MMR2"
      },
      "source": [
        "Insights:\n",
        "1. The bad risk proportion is higher in female customers. Approximately 36% of the female customers are bad risk while for male customers this proportion falls down to 27%.\n",
        "2. The bad risk proportion is higher in free and rent housing customers. Approximately 40% of the customers in these housing domains are bad risk while for those who have their own house this proportion falls down to 26%.\n",
        "3. As expected, customers with little and moderate saving accounts tend to present higher levels of risk. The opposite is true for those with rich and quite rich saving accounts. This makes total sense because clients with high saving account balances can pay their credit services much more easier than those with lower balances. Proportionally speaking, bad risk customers are approximately 3 times more frequent in little and moderate saving accounts when compared to rich and quite rich saving accounts.\n",
        "4. The same is true for Checking account. Specially, almost 50% of the customers with little checking account are bad risk. The bank must be alert with this!\n",
        "5. Interestingly, almost 50% of the customers who took out credit with the bank for education purposes are bad risk. This makes sense because those who are investing in education probably are younger and financially unstable. They must be people striving to study and build their lives.\n",
        "6. Moreover, I focused on bad and good risk proportions in different categorical features domains because naturally the domains with more observations (counts) will have more bad risk customers. This can be observed in all the variables above."
      ]
    },
    {
      "cell_type": "markdown",
      "metadata": {
        "id": "e0ttxhoHMMR3"
      },
      "source": [
        "### Categorical features vs Credit amount\n",
        "I will examine relationships among some features and Credit amount below in order to see which are the characteristics of customers who take (on average) higher credit amounts and consequently present higher levels of risk."
      ]
    },
    {
      "cell_type": "code",
      "execution_count": null,
      "metadata": {
        "id": "buxNLsbOMMR3"
      },
      "outputs": [],
      "source": [
        "sns_plots(data=train, features=countplot_barplot_features, barplot=True, barplot_y='Credit amount')"
      ]
    },
    {
      "cell_type": "code",
      "execution_count": null,
      "metadata": {
        "id": "VYmqFGJFMMR3"
      },
      "outputs": [],
      "source": [
        "# Plotting Purpose separately.\n",
        "plt.figure(figsize=(15, 5))\n",
        "sns.barplot(data=train, x='Purpose', y='Credit amount')\n",
        "plt.show()"
      ]
    },
    {
      "cell_type": "markdown",
      "metadata": {
        "id": "87NzV5pZMMR3"
      },
      "source": [
        "Insights:\n",
        "1. On average, customers who hold highly skilled jobs borrow higher credit amounts from the bank.\n",
        "2. On average, customers within free housing category borrow higher credit amounts from the bank.\n",
        "3. On average, customers who took out credit with the bank for vacation/others purpose borrow higher credit amounts from the bank."
      ]
    },
    {
      "cell_type": "markdown",
      "metadata": {
        "id": "tzytayVKMMR3"
      },
      "source": [
        "#### Categorical features vs Duration\n",
        "I will examine relationships among some features and Duration below in order to see which are the characteristics of customers who take credit services with longer durations and consequently present higher levels of risk."
      ]
    },
    {
      "cell_type": "code",
      "execution_count": null,
      "metadata": {
        "id": "xgjwb9YjMMR3"
      },
      "outputs": [],
      "source": [
        "sns_plots(data=train, features=countplot_barplot_features, barplot=True, barplot_y='Duration')"
      ]
    },
    {
      "cell_type": "code",
      "execution_count": null,
      "metadata": {
        "id": "NVsBvwkAMMR3"
      },
      "outputs": [],
      "source": [
        "# Plotting Purpose separately.\n",
        "plt.figure(figsize=(15, 5))\n",
        "sns.barplot(data=train, x='Purpose', y='Duration', linewidth=0)\n",
        "plt.show()"
      ]
    },
    {
      "cell_type": "markdown",
      "metadata": {
        "id": "Ksgp1-4gMMR4"
      },
      "source": [
        "Insights:\n",
        "1. Interestingly, the same patterns found for average credit amount are present here. This was expected, since credit amount and duration are strongly positively correlated.\n",
        "2. In resume, on average, customers who hold highly skilled jobs, free housing, and took out credit with the bank for vacation/others purpose use longer duration credit services."
      ]
    },
    {
      "cell_type": "markdown",
      "metadata": {
        "id": "slfWNAXNMMR4"
      },
      "source": [
        "### Credit amount and Durations vs Risk\n",
        "I will group the customers by risk in order to see how much credit was given to bad risk customers, what is the proportion of credit amount given for bad and good risk customers and what is the average duration of credit services that were taken by each of these groups."
      ]
    },
    {
      "cell_type": "code",
      "execution_count": null,
      "metadata": {
        "id": "IfTTS07ZMMR4"
      },
      "outputs": [],
      "source": [
        "amount_duration_risk = train.groupby(['Risk'], as_index=False).agg({'Credit amount': 'sum', 'Duration': 'mean'})\n",
        "amount_duration_risk['Percentage'] = amount_duration_risk['Credit amount'] / amount_duration_risk['Credit amount'].sum()\n",
        "amount_duration_risk"
      ]
    },
    {
      "cell_type": "markdown",
      "metadata": {
        "id": "AJ4eO5SzMMR4"
      },
      "source": [
        "### Clustering\n",
        "I will cluster the data in order to assess customers groups regard to some important features like credit amount and duration. By doing this, I will get a good idea of some hidden group tendencies in the data."
      ]
    },
    {
      "cell_type": "markdown",
      "metadata": {
        "id": "uj5PeD3UMMR4"
      },
      "source": [
        "### K-Means\n",
        "I will apply clustering with K-Means algorithm. It works with the steps below:\n",
        "1. Initialize K centroids randomly. We define K before running the algorithm.\n",
        "2. Label the instances. Each instance will be assigned to the cluster with the closest centroid. It uses the Euclidean Distance for calculating distances.\n",
        "3. Update the centroids by taking the average of the instances in each cluster.\n",
        "4. Repeat these steps until the centroids positions don't change anymore.\n",
        "\n",
        "To determine the optimal number of clusters/centroids K, there are two methods:\n",
        "1. Elbow Method: Uses the inertia (within cluster sum of squares). The inflexion point is chosen because the number of clusters before it (less clusters) and after it (more clusters than necessary) are suboptimal.\n",
        "2. Silhouette Score: The silhouette score for an instance is given by (b-a)/max(a, b) where a is the mean intra-cluster distance and b is the mean nearest-cluster distance. It ranges from -1 to 1. The closer to 1 the better. A silhouette score close to 0 indicates that the instance is next to a cluster boundary. A silhouette score close to -1 indicates that the instance is in the wrong cluster.\n",
        "\n",
        "I will choose K using the elbow method because I am clustering the data just for visualization and insight purposes."
      ]
    },
    {
      "cell_type": "markdown",
      "metadata": {
        "id": "M1vqA-fYMMR4"
      },
      "source": [
        "### Age vs Duration clustering"
      ]
    },
    {
      "cell_type": "code",
      "execution_count": null,
      "metadata": {
        "id": "6XYeStmWMMR4"
      },
      "outputs": [],
      "source": [
        "# Getting inertias of different number of clusters K K-Means models.\n",
        "\n",
        "clustering_df = train[['Age', 'Duration']]\n",
        "\n",
        "different_k_kmeans = [KMeans(n_clusters=k, random_state=42).fit(clustering_df) for k in range(1, 6)]\n",
        "inertias = [model.inertia_ for model in different_k_kmeans]"
      ]
    },
    {
      "cell_type": "code",
      "execution_count": null,
      "metadata": {
        "id": "wsGBVvOmMMR4"
      },
      "outputs": [],
      "source": [
        "# Plotting curve for elbow method.\n",
        "\n",
        "plt.figure(figsize=(5, 3))\n",
        "plt.title('Elbow Method')\n",
        "plt.plot(range(1, 6), inertias, 'bo-')\n",
        "plt.xlabel('k', fontsize=14)\n",
        "plt.xticks(range(1, 6))\n",
        "plt.ylabel('Inertia', fontsize=14)\n",
        "plt.show()"
      ]
    },
    {
      "cell_type": "markdown",
      "metadata": {
        "id": "18SZzV2GMMR5"
      },
      "source": [
        "Clearly, 3 is the optimal number of clusters by the elbow method."
      ]
    },
    {
      "cell_type": "code",
      "execution_count": null,
      "metadata": {
        "id": "DAOnlk2PMMR5"
      },
      "outputs": [],
      "source": [
        "# Applying K-Means clustering with the optimal number of clusters.\n",
        "\n",
        "k_means = KMeans(n_clusters=3)\n",
        "k_means.fit(clustering_df)"
      ]
    },
    {
      "cell_type": "code",
      "execution_count": null,
      "metadata": {
        "id": "jwgBx_3eMMR5"
      },
      "outputs": [],
      "source": [
        "# Plotting the clustering result.\n",
        "\n",
        "clustering_df['Clusters'] = k_means.labels_\n",
        "\n",
        "plt.figure(figsize=(8, 3))\n",
        "sns.scatterplot(data=clustering_df, x='Age', y='Duration', hue='Clusters')\n",
        "plt.show()"
      ]
    },
    {
      "cell_type": "markdown",
      "metadata": {
        "id": "NsQHpsIRMMR5"
      },
      "source": [
        "Insights about the groups formed:\n",
        "1. Group 0: Older customers (from 40 to 70 years old) that take credit services with short durations (from 10 to 30 months).\n",
        "2. Group 1: Young customers (from 20 to 40 years old) that take credit services with short durations (from 10 to 30 months). These customers might be people who don't have financial stability and take low loan values for purposes like education and so on.\n",
        "3. Group 2: Customers who take credit services with longer durations. These customers might be people that represent a high level of risk and take credit for purposes like vacation/others."
      ]
    },
    {
      "cell_type": "markdown",
      "metadata": {
        "id": "Ax3rs1bpMMR5"
      },
      "source": [
        "### Credit amount vs Duration clustering"
      ]
    },
    {
      "cell_type": "code",
      "execution_count": null,
      "metadata": {
        "id": "FQlyxCAYMMR5"
      },
      "outputs": [],
      "source": [
        "# Getting inertias of different number of clusters K K-Means models.\n",
        "\n",
        "clustering_df = train[['Credit amount', 'Duration']]\n",
        "\n",
        "different_k_kmeans = [KMeans(n_clusters=k, random_state=42).fit(clustering_df) for k in range(1, 6)]\n",
        "inertias = [model.inertia_ for model in different_k_kmeans]"
      ]
    },
    {
      "cell_type": "code",
      "execution_count": null,
      "metadata": {
        "id": "ZwtpiQqNMMR5"
      },
      "outputs": [],
      "source": [
        "# Plotting curve for elbow method.\n",
        "\n",
        "plt.figure(figsize=(5, 3))\n",
        "plt.title('Elbow Method')\n",
        "plt.plot(range(1, 6), inertias, 'bo-')\n",
        "plt.xlabel('k', fontsize=14)\n",
        "plt.xticks(range(1, 6))\n",
        "plt.ylabel('Inertia', fontsize=14)\n",
        "plt.show()"
      ]
    },
    {
      "cell_type": "markdown",
      "metadata": {
        "id": "iNd1rPILMMR5"
      },
      "source": [
        "Clearly, 2 is the optimal number of clusters by the elbow method."
      ]
    },
    {
      "cell_type": "code",
      "execution_count": null,
      "metadata": {
        "id": "axlxjdK5MMR6"
      },
      "outputs": [],
      "source": [
        "# Applying K-Means clustering with the optimal number of clusters.\n",
        "\n",
        "k_means = KMeans(n_clusters=2)\n",
        "k_means.fit(clustering_df)"
      ]
    },
    {
      "cell_type": "code",
      "execution_count": null,
      "metadata": {
        "id": "YTQ8LNnDMMR6"
      },
      "outputs": [],
      "source": [
        "# Plotting the clustering result.\n",
        "\n",
        "clustering_df['Clusters'] = k_means.labels_\n",
        "\n",
        "plt.figure(figsize=(8, 3))\n",
        "sns.scatterplot(data=clustering_df, x='Credit amount', y='Duration', hue='Clusters')\n",
        "plt.show()"
      ]
    },
    {
      "cell_type": "markdown",
      "metadata": {
        "id": "ryP43iVNMMR6"
      },
      "source": [
        "Insights about the groups formed:\n",
        "1. Group 0: Customers who take lower credit amounts from the bank (from 0 to 5000) with various durations (from 0 to 50 months).\n",
        "2. Group 1: Customers who take higher credit amounts from the bank (from 5000 to 16000) with various durations (from 0 to 60 months). The credit services with longer durations were taken by this group."
      ]
    },
    {
      "cell_type": "markdown",
      "metadata": {
        "id": "xN3oPB3FMMR6"
      },
      "source": [
        "### EDA conclusions\n",
        "<b>Main insights:</b><br>\n",
        "<b>1.</b> Young customers tend to present higher credit risk. This makes sense since younger people usually don't have financial stability.<br>\n",
        "<b>2.</b> Customers who take higher credit amounts from the bank tend to present higher risk. This makes total sense. The higher the credit amount taken, the harder it is to pay it.<br>\n",
        "<b>3.</b> Customers whose credit services have a long duration present higher risk. The more time a customer spends using a credit service without paying it, the higher the risk of default.<br>\n",
        "<b>4.</b> Credit amount and Duration are strongly positively correlated. Credit services with longer durations generally are associated with higher credit amounts and vice-versa. Furthermore, a weak positive correlation exists between these two features and risk. This makes sense because a customer holding a credit service for a longer duration with a high credit amount taken presents higher risk.<br>\n",
        "<b>5.</b> Customers with little saving and checking accounts tend to present higher credit risk. Particularly, almost 50% of the customers who have little checking accounts are bad risk ones.<br>\n",
        "<b>6.</b> When a customer takes credit from the bank for vacation/others and education purposes, the bank must be alert. Almost 50% of the customers who take credit for education are bad risk. Moreover, vacation/others purpose presents the higher average credit amount and duration compared to all of the other purposes. Thus, these categories represent higher risk levels.<br>\n",
        "<b>7.</b> In terms of profile, most of the customers are:<br>\n",
        "    - Male.<br>\n",
        "    - Around 36 years old.<br>\n",
        "    - Hold a skilled job.<br>\n",
        "    - Have their own house.<br>\n",
        "    - Take low credit amounts.<br>\n",
        "    - Utilize the bank's credit service for 12 or 24 months.<br>\n",
        "    - Have little and little/moderate saving and checking accounts.<br>\n",
        "    - Take credit for car, radio/TV and furniture/equipment purposes.<br>"
      ]
    }
  ],
  "metadata": {
    "kernelspec": {
      "display_name": "Python 3",
      "language": "python",
      "name": "python3"
    },
    "language_info": {
      "codemirror_mode": {
        "name": "ipython",
        "version": 3
      },
      "file_extension": ".py",
      "mimetype": "text/x-python",
      "name": "python",
      "nbconvert_exporter": "python",
      "pygments_lexer": "ipython3",
      "version": "3.11.4"
    },
    "orig_nbformat": 4,
    "colab": {
      "provenance": [],
      "include_colab_link": true
    }
  },
  "nbformat": 4,
  "nbformat_minor": 0
}